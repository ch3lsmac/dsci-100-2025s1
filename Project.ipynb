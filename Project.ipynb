{
 "cells": [
  {
   "cell_type": "markdown",
   "id": "75453ff4-3453-43aa-82c0-276936dd4a79",
   "metadata": {},
   "source": [
    "Author: Chelsey Macaulay\n",
    "Class/Section: DSCI 100-003\n",
    "Summer 2025 Term 1\n",
    "Due June 23rd, 2025"
   ]
  },
  {
   "cell_type": "code",
   "execution_count": null,
   "id": "b9284ab3-6225-4eb1-a850-741187f8269b",
   "metadata": {},
   "outputs": [],
   "source": []
  }
 ],
 "metadata": {
  "kernelspec": {
   "display_name": "R",
   "language": "R",
   "name": "ir"
  },
  "language_info": {
   "codemirror_mode": "r",
   "file_extension": ".r",
   "mimetype": "text/x-r-source",
   "name": "R",
   "pygments_lexer": "r",
   "version": "4.3.3"
  }
 },
 "nbformat": 4,
 "nbformat_minor": 5
}
